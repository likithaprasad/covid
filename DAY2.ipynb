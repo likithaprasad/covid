{
  "nbformat": 4,
  "nbformat_minor": 0,
  "metadata": {
    "colab": {
      "provenance": []
    },
    "kernelspec": {
      "name": "python3",
      "display_name": "Python 3"
    },
    "language_info": {
      "name": "python"
    }
  },
  "cells": [
    {
      "cell_type": "code",
      "execution_count": 3,
      "metadata": {
        "id": "Mfr-5--EOb_B"
      },
      "outputs": [],
      "source": [
        "import tensorflow as tf\n",
        "from tensorflow import keras\n",
        "from tensorflow.keras import layers\n",
        "from tensorflow.keras.preprocessing.image import ImageDataGenerator\n",
        "\n",
        "IMG_SIZE = 244\n",
        "BATCH_SIZE = 32"
      ]
    },
    {
      "cell_type": "code",
      "source": [
        "train_datagen = ImageDataGenerator(rescale=1./255,validation_split=0.2)\n",
        "\n",
        "train_generator = train_datagen.flow_from_directory(\n",
        "\n",
        "    '/content/drive/MyDrive/Covid19-dataset',\n",
        "    target_size=(IMG_SIZE,IMG_SIZE),\n",
        "    batch_size=BATCH_SIZE,\n",
        "    class_mode='categorical',\n",
        "    subset='training'\n",
        ")\n",
        "\n",
        "val_generator = train_datagen.flow_from_directory(\n",
        "    '/content/drive/MyDrive/Covid19-dataset',\n",
        "    target_size=(IMG_SIZE,IMG_SIZE),\n",
        "    batch_size=BATCH_SIZE,\n",
        "    class_mode='categorical',\n",
        "    subset='validation'\n",
        ")"
      ],
      "metadata": {
        "colab": {
          "base_uri": "https://localhost:8080/"
        },
        "id": "K362268xYVdK",
        "outputId": "12c346e9-9f70-4ef5-b0a4-eb137f126768"
      },
      "execution_count": 4,
      "outputs": [
        {
          "output_type": "stream",
          "name": "stdout",
          "text": [
            "Found 258 images belonging to 2 classes.\n",
            "Found 64 images belonging to 2 classes.\n"
          ]
        }
      ]
    },
    {
      "cell_type": "code",
      "source": [
        "# Define the model\n",
        "model = keras.Sequential([\n",
        "    layers.Conv2D(32, (3,3),activation='relu',input_shape=(IMG_SIZE,IMG_SIZE,3)),\n",
        "    layers.MaxPooling2D(2,2),\n",
        "    layers.Conv2D(64,(3,3),activation='relu'),\n",
        "    layers.MaxPooling2D(2,2),\n",
        "    layers.Conv2D(128,(3,3),activation='relu'),\n",
        "    layers.MaxPooling2D(2,2),\n",
        "    layers.Flatten(),\n",
        "    layers.Dense(128,activation='relu'),\n",
        "    layers.Dense(1,activation='sigmoid') #output layer\n",
        "])"
      ],
      "metadata": {
        "id": "2lp0IN5KjylK"
      },
      "execution_count": 5,
      "outputs": []
    },
    {
      "cell_type": "code",
      "source": [
        "# Compile the model\n",
        "model.compile(optimizer='adam',loss='binary_crossentropy', metrics=['accuracy'])"
      ],
      "metadata": {
        "id": "qGsUs3bLj455"
      },
      "execution_count": 6,
      "outputs": []
    },
    {
      "cell_type": "code",
      "source": [
        "model.fit(train_generator, validation_data=val_generator, epochs=5)"
      ],
      "metadata": {
        "id": "lp6n8lPAkDtA",
        "colab": {
          "base_uri": "https://localhost:8080/"
        },
        "outputId": "fcd56629-0e4d-498b-ae6b-85d3d17aab4a"
      },
      "execution_count": 7,
      "outputs": [
        {
          "output_type": "stream",
          "name": "stdout",
          "text": [
            "Epoch 1/5\n",
            "9/9 [==============================] - 72s 7s/step - loss: 1.7946 - accuracy: 0.5000 - val_loss: 0.6933 - val_accuracy: 0.5000\n",
            "Epoch 2/5\n",
            "9/9 [==============================] - 44s 5s/step - loss: 0.6932 - accuracy: 0.5000 - val_loss: 0.6932 - val_accuracy: 0.5000\n",
            "Epoch 3/5\n",
            "9/9 [==============================] - 43s 5s/step - loss: 0.6931 - accuracy: 0.5000 - val_loss: 0.6931 - val_accuracy: 0.5000\n",
            "Epoch 4/5\n",
            "9/9 [==============================] - 47s 5s/step - loss: 0.6931 - accuracy: 0.5000 - val_loss: 0.6931 - val_accuracy: 0.5000\n",
            "Epoch 5/5\n",
            "9/9 [==============================] - 44s 5s/step - loss: 0.6931 - accuracy: 0.5000 - val_loss: 0.6931 - val_accuracy: 0.5000\n"
          ]
        },
        {
          "output_type": "execute_result",
          "data": {
            "text/plain": [
              "<keras.src.callbacks.History at 0x7a7b305278e0>"
            ]
          },
          "metadata": {},
          "execution_count": 7
        }
      ]
    },
    {
      "cell_type": "code",
      "source": [
        "model.save(\"Model.h5\",\"label.txt\")"
      ],
      "metadata": {
        "id": "LpWGkA7GkMvk",
        "colab": {
          "base_uri": "https://localhost:8080/"
        },
        "outputId": "5f90958f-af47-4725-bed2-740131b60718"
      },
      "execution_count": 8,
      "outputs": [
        {
          "output_type": "stream",
          "name": "stderr",
          "text": [
            "/usr/local/lib/python3.10/dist-packages/keras/src/engine/training.py:3103: UserWarning: You are saving your model as an HDF5 file via `model.save()`. This file format is considered legacy. We recommend using instead the native Keras format, e.g. `model.save('my_model.keras')`.\n",
            "  saving_api.save_model(\n"
          ]
        }
      ]
    },
    {
      "cell_type": "code",
      "source": [
        "from tensorflow.keras.models import load_model\n",
        "from tensorflow.keras.preprocessing import image\n",
        "import numpy as np\n",
        "\n",
        "#load the model\n",
        "model = load_model('Model.h5')\n",
        "\n",
        "#Load and preprocess the last imageeg\n",
        "test_image_path = '/content/drive/MyDrive/Covid19-dataset/test/Covid/0100.jpeg' # store the path as a string\n",
        "img = image.load_img(test_image_path, target_size=(244, 244)) # load image from the path\n",
        "img_array= image.img_to_array(img)\n",
        "img_array= np.expand_dims(img_array, axis=0) # Fix: expand img_array, not img\n",
        "\n",
        "#Add batch dimension\n",
        "img_array = img_array / 255.0  #normalize the pixel value, create a copy\n",
        "\n",
        "#Make predictions\n",
        "prediction = model.predict(img_array)\n",
        "\n",
        "#print the prediction\n",
        "print(prediction)"
      ],
      "metadata": {
        "colab": {
          "base_uri": "https://localhost:8080/"
        },
        "id": "PIxle5potajo",
        "outputId": "f8e00f1f-b75e-4a07-df69-e6b950e1b68f"
      },
      "execution_count": 10,
      "outputs": [
        {
          "output_type": "stream",
          "name": "stdout",
          "text": [
            "1/1 [==============================] - 0s 195ms/step\n",
            "[[0.49961802]]\n"
          ]
        }
      ]
    },
    {
      "cell_type": "code",
      "source": [
        "# ... previous code ...\n",
        "\n",
        "# Make predictions and store the result\n",
        "predictions = model.predict(img_array)\n",
        "\n",
        "# Print the prediction\n",
        "print(predictions)\n",
        "\n",
        "# Access the predicted class (assuming binary classification)\n",
        "if predictions[0][0] < 0.5:\n",
        "    print('It is a covid')\n",
        "else:\n",
        "    print('It is a viral pneumonia')"
      ],
      "metadata": {
        "id": "V7CfrV3Itbpe",
        "colab": {
          "base_uri": "https://localhost:8080/"
        },
        "outputId": "638b912b-79db-4eba-f822-98636c748b76"
      },
      "execution_count": 11,
      "outputs": [
        {
          "output_type": "stream",
          "name": "stdout",
          "text": [
            "1/1 [==============================] - 0s 113ms/step\n",
            "[[0.49961802]]\n",
            "It is a covid\n"
          ]
        }
      ]
    }
  ]
}